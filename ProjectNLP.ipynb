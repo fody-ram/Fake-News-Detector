{
  "cells": [
    {
      "cell_type": "code",
      "execution_count": null,
      "metadata": {
        "id": "SR6S0h6JC028"
      },
      "outputs": [],
      "source": [
        "import numpy as np\n",
        "import pandas as pd\n",
        "import nltk\n",
        "import random\n",
        "import matplotlib.pyplot as plt\n",
        "from sklearn.model_selection import train_test_split\n",
        "from sklearn.metrics import classification_report, accuracy_score\n",
        "from tensorflow.keras.models import Sequential\n",
        "from tensorflow.keras.layers import Embedding, Bidirectional, LSTM, Dense, Dropout\n",
        "from tensorflow.keras.regularizers import l2\n",
        "from tensorflow.keras.preprocessing.text import Tokenizer\n",
        "from tensorflow.keras.preprocessing.sequence import pad_sequences\n",
        "from tensorflow.keras.callbacks import EarlyStopping\n"
      ]
    },
    {
      "cell_type": "code",
      "execution_count": null,
      "metadata": {
        "colab": {
          "base_uri": "https://localhost:8080/"
        },
        "id": "_x918bkyC0vU",
        "outputId": "7efdfa03-f8c1-4401-9d4b-27482b8b89c7"
      },
      "outputs": [
        {
          "output_type": "stream",
          "name": "stderr",
          "text": [
            "[nltk_data] Downloading package stopwords to /root/nltk_data...\n",
            "[nltk_data]   Unzipping corpora/stopwords.zip.\n",
            "[nltk_data] Downloading package wordnet to /root/nltk_data...\n",
            "[nltk_data] Downloading package averaged_perceptron_tagger to\n",
            "[nltk_data]     /root/nltk_data...\n",
            "[nltk_data]   Unzipping taggers/averaged_perceptron_tagger.zip.\n"
          ]
        }
      ],
      "source": [
        "# Download NLTK data\n",
        "nltk.download('stopwords')\n",
        "nltk.download('wordnet')\n",
        "nltk.download('averaged_perceptron_tagger')\n",
        "\n",
        "from nltk.corpus import stopwords, wordnet"
      ]
    },
    {
      "cell_type": "code",
      "execution_count": null,
      "metadata": {
        "id": "W9G2yPVEC0g_"
      },
      "outputs": [],
      "source": [
        "# Load datasets\n",
        "gossipcop_fake = pd.read_csv('gossipcop_fake.csv')\n",
        "gossipcop_real = pd.read_csv('gossipcop_real.csv')\n",
        "politifact_fake = pd.read_csv('politifact_fake.csv')\n",
        "politifact_real = pd.read_csv('politifact_real.csv')"
      ]
    },
    {
      "cell_type": "code",
      "execution_count": null,
      "metadata": {
        "id": "kK3vVVFPC5Kl"
      },
      "outputs": [],
      "source": [
        "# Combine datasets\n",
        "gossipcop_fake['label'] = 0\n",
        "gossipcop_real['label'] = 1\n",
        "politifact_fake['label'] = 0\n",
        "politifact_real['label'] = 1\n",
        "\n",
        "data = pd.concat([gossipcop_fake, gossipcop_real, politifact_fake, politifact_real], ignore_index=True)\n",
        "\n",
        "# Data preprocessing\n",
        "stop_words = set(stopwords.words('english'))"
      ]
    },
    {
      "cell_type": "code",
      "execution_count": null,
      "metadata": {
        "id": "60Zky8d2DAkU"
      },
      "outputs": [],
      "source": [
        "def clean_text(text):\n",
        "    words = text.lower().split()\n",
        "    words = [word for word in words if word.isalpha() and word not in stop_words]\n",
        "    return ' '.join(words)\n",
        "\n",
        "data['cleaned_title'] = data['title'].apply(clean_text)\n",
        "\n",
        "# Text Data Augmentation Functions\n",
        "def get_synonyms(word):\n",
        "    synonyms = set()\n",
        "    for syn in wordnet.synsets(word):\n",
        "        for lemma in syn.lemmas():\n",
        "            synonym = lemma.name().replace('_', ' ')\n",
        "            if synonym != word:\n",
        "                synonyms.add(synonym)\n",
        "    return list(synonyms)\n",
        "\n",
        "def synonym_replacement(sentence, n):\n",
        "    words = sentence.split()\n",
        "    if len(words) == 0:\n",
        "        return sentence\n",
        "    new_words = words.copy()\n",
        "    random_word_list = list(set(words))\n",
        "    random.shuffle(random_word_list)\n",
        "    num_replaced = 0\n",
        "    for random_word in random_word_list:\n",
        "        synonyms = get_synonyms(random_word)\n",
        "        if len(synonyms) >= 1:\n",
        "            synonym = random.choice(synonyms)\n",
        "            new_words = [synonym if word == random_word else word for word in new_words]\n",
        "            num_replaced += 1\n",
        "        if num_replaced >= n:\n",
        "            break\n",
        "    sentence = ' '.join(new_words)\n",
        "    return sentence\n",
        "\n",
        "def random_insertion(sentence, n):\n",
        "    words = sentence.split()\n",
        "    if len(words) == 0:\n",
        "        return sentence\n",
        "    for _ in range(n):\n",
        "        add_word(words)\n",
        "    return ' '.join(words)\n",
        "\n",
        "def add_word(words):\n",
        "    synonyms = []\n",
        "    counter = 0\n",
        "    while len(synonyms) < 1:\n",
        "        random_word = words[random.randint(0, len(words)-1)]\n",
        "        synonyms = get_synonyms(random_word)\n",
        "        counter += 1\n",
        "        if counter >= 10:\n",
        "            return\n",
        "    random_synonym = synonyms[0]\n",
        "    random_idx = random.randint(0, len(words)-1)\n",
        "    words.insert(random_idx, random_synonym)\n",
        "\n",
        "def random_swap(sentence, n):\n",
        "    words = sentence.split()\n",
        "    if len(words) == 0:\n",
        "        return sentence\n",
        "    for _ in range(n):\n",
        "        words = swap_word(words)\n",
        "    return ' '.join(words)\n",
        "\n",
        "def swap_word(words):\n",
        "    random_idx_1 = random.randint(0, len(words)-1)\n",
        "    random_idx_2 = random_idx_1\n",
        "    counter = 0\n",
        "    while random_idx_2 == random_idx_1:\n",
        "        random_idx_2 = random.randint(0, len(words)-1)\n",
        "        counter += 1\n",
        "        if counter > 3:\n",
        "            return words\n",
        "    words[random_idx_1], words[random_idx_2] = words[random_idx_2], words[random_idx_1]\n",
        "    return words\n",
        "\n",
        "def random_deletion(sentence, p):\n",
        "    words = sentence.split()\n",
        "    if len(words) <= 1:  # If there's only one word or none, return the original sentence\n",
        "        return ' '.join(words)\n",
        "\n",
        "    new_words = []\n",
        "    for word in words:\n",
        "        r = random.uniform(0, 1)\n",
        "        if r > p:\n",
        "            new_words.append(word)\n",
        "\n",
        "    if len(new_words) == 0:\n",
        "        return ' '.join([random.choice(words)])  # Return a random word from original words if all deleted\n",
        "\n",
        "    return ' '.join(new_words)\n",
        "\n",
        "def augment_sentence(sentence):\n",
        "    augmented_sentences = []\n",
        "    augmented_sentences.append(synonym_replacement(sentence, n=2))\n",
        "    augmented_sentences.append(random_insertion(sentence, n=2))\n",
        "    augmented_sentences.append(random_swap(sentence, n=2))\n",
        "    augmented_sentences.append(random_deletion(sentence, p=0.2))\n",
        "    return augmented_sentences\n",
        "\n",
        "# Apply data augmentation\n",
        "augmented_data = []\n",
        "for _, row in data.iterrows():\n",
        "    augmented_sentences = augment_sentence(row['cleaned_title'])\n",
        "    for aug_sentence in augmented_sentences:\n",
        "        augmented_data.append({'title': aug_sentence, 'label': row['label']})\n",
        "\n",
        "augmented_df = pd.DataFrame(augmented_data)\n",
        "\n",
        "# Combine original and augmented data\n",
        "combined_data = pd.concat([data[['cleaned_title', 'label']].rename(columns={'cleaned_title': 'title'}), augmented_df], ignore_index=True)"
      ]
    },
    {
      "cell_type": "code",
      "execution_count": null,
      "metadata": {
        "id": "BUlUb7BhDAgF"
      },
      "outputs": [],
      "source": [
        "# Tokenization and padding\n",
        "max_words = 5000\n",
        "max_len = 100\n",
        "\n",
        "tokenizer = Tokenizer(num_words=max_words)\n",
        "tokenizer.fit_on_texts(combined_data['title'])\n",
        "sequences = tokenizer.texts_to_sequences(combined_data['title'])\n",
        "padded_sequences = pad_sequences(sequences, maxlen=max_len)"
      ]
    },
    {
      "cell_type": "code",
      "execution_count": null,
      "metadata": {
        "id": "hT0gV6PTC5G9"
      },
      "outputs": [],
      "source": [
        "# Split data into training and testing sets\n",
        "X_train, X_test, y_train, y_test = train_test_split(padded_sequences, combined_data['label'], test_size=0.2, random_state=42)\n",
        "\n",
        "# Model definition\n",
        "model = Sequential()\n",
        "model.add(Embedding(input_dim=max_words, output_dim=128, input_length=max_len))\n",
        "model.add(Bidirectional(LSTM(64, return_sequences=True, kernel_regularizer=l2(0.01))))\n",
        "model.add(Dropout(0.5))\n",
        "model.add(Bidirectional(LSTM(32, kernel_regularizer=l2(0.01))))\n",
        "model.add(Dropout(0.5))\n",
        "model.add(Dense(1, activation='sigmoid'))"
      ]
    },
    {
      "cell_type": "markdown",
      "metadata": {
        "id": "YWxlyWIPF_SD"
      },
      "source": [
        "\n",
        "\n",
        "\n",
        "##batch_size=512"
      ]
    },
    {
      "cell_type": "code",
      "execution_count": null,
      "metadata": {
        "colab": {
          "base_uri": "https://localhost:8080/"
        },
        "id": "AcCWRnAqDjJk",
        "outputId": "6f278bb0-0656-48ee-8078-64828fa2175c"
      },
      "outputs": [
        {
          "output_type": "stream",
          "name": "stdout",
          "text": [
            "Epoch 1/20\n",
            "145/145 [==============================] - 39s 207ms/step - loss: 2.1189 - accuracy: 0.7831 - val_loss: 0.5271 - val_accuracy: 0.8270\n",
            "Epoch 2/20\n",
            "145/145 [==============================] - 11s 78ms/step - loss: 0.4021 - accuracy: 0.8435 - val_loss: 0.3677 - val_accuracy: 0.8454\n",
            "Epoch 3/20\n",
            "145/145 [==============================] - 7s 47ms/step - loss: 0.3494 - accuracy: 0.8537 - val_loss: 0.3605 - val_accuracy: 0.8440\n",
            "Epoch 4/20\n",
            "145/145 [==============================] - 6s 42ms/step - loss: 0.3317 - accuracy: 0.8635 - val_loss: 0.3427 - val_accuracy: 0.8557\n",
            "Epoch 5/20\n",
            "145/145 [==============================] - 6s 43ms/step - loss: 0.3076 - accuracy: 0.8742 - val_loss: 0.3380 - val_accuracy: 0.8576\n",
            "Epoch 6/20\n",
            "145/145 [==============================] - 6s 41ms/step - loss: 0.2953 - accuracy: 0.8800 - val_loss: 0.3347 - val_accuracy: 0.8587\n",
            "Epoch 7/20\n",
            "145/145 [==============================] - 6s 42ms/step - loss: 0.2943 - accuracy: 0.8806 - val_loss: 0.3550 - val_accuracy: 0.8567\n",
            "Epoch 8/20\n",
            "145/145 [==============================] - 6s 40ms/step - loss: 0.2883 - accuracy: 0.8838 - val_loss: 0.3260 - val_accuracy: 0.8613\n",
            "Epoch 9/20\n",
            "145/145 [==============================] - 6s 41ms/step - loss: 0.2859 - accuracy: 0.8864 - val_loss: 0.3304 - val_accuracy: 0.8638\n",
            "Epoch 10/20\n",
            "145/145 [==============================] - 6s 38ms/step - loss: 0.2817 - accuracy: 0.8885 - val_loss: 0.3300 - val_accuracy: 0.8636\n",
            "Epoch 11/20\n",
            "145/145 [==============================] - 6s 40ms/step - loss: 0.2801 - accuracy: 0.8896 - val_loss: 0.3294 - val_accuracy: 0.8626\n"
          ]
        }
      ],
      "source": [
        "model.compile(optimizer='adam', loss='binary_crossentropy', metrics=['accuracy'])\n",
        "\n",
        "# Early stopping callback\n",
        "early_stopping = EarlyStopping(monitor='val_loss', patience=3, restore_best_weights=True)\n",
        "\n",
        "# Train model with validation split\n",
        "history = model.fit(X_train, y_train, epochs=20, batch_size=512, validation_split=0.2, callbacks=[early_stopping])"
      ]
    },
    {
      "cell_type": "code",
      "execution_count": null,
      "metadata": {
        "colab": {
          "base_uri": "https://localhost:8080/"
        },
        "id": "mdAcSK6xDjAG",
        "outputId": "ebac14db-d9ab-40e2-b3bd-ac3a91b2bc5b"
      },
      "outputs": [
        {
          "output_type": "stream",
          "name": "stderr",
          "text": [
            "/usr/local/lib/python3.10/dist-packages/keras/src/engine/training.py:3103: UserWarning: You are saving your model as an HDF5 file via `model.save()`. This file format is considered legacy. We recommend using instead the native Keras format, e.g. `model.save('my_model.keras')`.\n",
            "  saving_api.save_model(\n"
          ]
        }
      ],
      "source": [
        "# Save the trained model\n",
        "model.save('fake_news_detection_model_512.h5')\n",
        "# Save only the weights\n",
        "model.save_weights('fake_news_detection_weights_512.h5')"
      ]
    },
    {
      "cell_type": "code",
      "execution_count": null,
      "metadata": {
        "colab": {
          "base_uri": "https://localhost:8080/",
          "height": 590
        },
        "id": "p8BFSy32DjD4",
        "outputId": "94750b11-f339-4fcf-a342-bc71fc3a023c"
      },
      "outputs": [
        {
          "output_type": "stream",
          "name": "stdout",
          "text": [
            "725/725 [==============================] - 7s 10ms/step - loss: 0.3178 - accuracy: 0.8702\n",
            "Model Accuracy: 0.8701931238174438\n"
          ]
        },
        {
          "output_type": "display_data",
          "data": {
            "text/plain": [
              "<Figure size 1200x400 with 2 Axes>"
            ],
            "image/png": "[encoded data removed]"
          },
          "metadata": {}
        },
        {
          "output_type": "stream",
          "name": "stdout",
          "text": [
            "725/725 [==============================] - 6s 7ms/step\n",
            "              precision    recall  f1-score   support\n",
            "\n",
            "           0       0.77      0.69      0.73      5794\n",
            "           1       0.90      0.93      0.91     17402\n",
            "\n",
            "    accuracy                           0.87     23196\n",
            "   macro avg       0.83      0.81      0.82     23196\n",
            "weighted avg       0.87      0.87      0.87     23196\n",
            "\n"
          ]
        }
      ],
      "source": [
        "# Evaluate model\n",
        "loss, accuracy = model.evaluate(X_test, y_test)\n",
        "print(f'Model Accuracy: {accuracy}')\n",
        "\n",
        "# Plot training and validation accuracy and loss\n",
        "def plot_history(history):\n",
        "    plt.figure(figsize=(12, 4))\n",
        "    plt.subplot(1, 2, 1)\n",
        "    plt.plot(history.history['accuracy'])\n",
        "    plt.plot(history.history['val_accuracy'])\n",
        "    plt.title('Model Accuracy')\n",
        "    plt.ylabel('Accuracy')\n",
        "    plt.xlabel('Epoch')\n",
        "    plt.legend(['Train', 'Validation'], loc='upper left')\n",
        "\n",
        "    plt.subplot(1, 2, 2)\n",
        "    plt.plot(history.history['loss'])\n",
        "    plt.plot(history.history['val_loss'])\n",
        "    plt.title('Model Loss')\n",
        "    plt.ylabel('Loss')\n",
        "    plt.xlabel('Epoch')\n",
        "    plt.legend(['Train', 'Validation'], loc='upper left')\n",
        "\n",
        "    plt.tight_layout()\n",
        "    plt.show()\n",
        "\n",
        "plot_history(history)\n",
        "\n",
        "# Classification report\n",
        "y_pred = (model.predict(X_test) > 0.5).astype(\"int32\")\n",
        "print(classification_report(y_test, y_pred))"
      ]
    },
    {
      "cell_type": "code",
      "execution_count": null,
      "metadata": {
        "colab": {
          "base_uri": "https://localhost:8080/"
        },
        "id": "ZLa-myXGDi5X",
        "outputId": "3e86c3a9-2dfd-4c95-c206-b86b3746a6bc"
      },
      "outputs": [
        {
          "output_type": "stream",
          "name": "stdout",
          "text": [
            "1/1 [==============================] - 0s 33ms/step\n",
            "The statement: \"NASA confirms liquid water on Mars\" is classified as: Real\n",
            "1/1 [==============================] - 0s 34ms/step\n",
            "The statement: \"Celebrity endorses miracle weight loss pill\" is classified as: Real\n",
            "1/1 [==============================] - 0s 31ms/step\n",
            "The statement: \"New technology promises to solve world hunger\" is classified as: Real\n",
            "1/1 [==============================] - 0s 49ms/step\n",
            "The statement: \"Aliens have landed on Earth, says government\" is classified as: Real\n",
            "1/1 [==============================] - 0s 41ms/step\n",
            "The statement: \"Economic growth predicted to soar in 2025\" is classified as: Real\n",
            "1/1 [==============================] - 0s 36ms/step\n",
            "The statement: \"Scientists discover new species of dinosaur\" is classified as: Real\n",
            "1/1 [==============================] - 0s 32ms/step\n",
            "The statement: \"Study shows chocolate cures cancer\" is classified as: Real\n",
            "1/1 [==============================] - 0s 35ms/step\n",
            "The statement: \"Politician caught in corruption scandal\" is classified as: Fake\n",
            "1/1 [==============================] - 0s 36ms/step\n",
            "The statement: \"Local hero saves family from burning building\" is classified as: Real\n",
            "1/1 [==============================] - 0s 40ms/step\n",
            "The statement: \"New movie breaks box office records\" is classified as: Real\n",
            "1/1 [==============================] - 0s 31ms/step\n",
            "The statement: \"Scientists prove that drinking bleach can cure COVID-19.\" is classified as: Real\n",
            "1/1 [==============================] - 0s 39ms/step\n",
            "The statement: \"Millions of illegal votes were cast in the last election, says anonymous source.\" is classified as: Fake\n",
            "1/1 [==============================] - 0s 36ms/step\n",
            "The statement: \"New study claims that climate change is a hoax perpetuated by scientists for profit.\" is classified as: Fake\n",
            "1/1 [==============================] - 0s 50ms/step\n",
            "The statement: \"Elvis Presley spotted working as a cashier in a small-town grocery store.\" is classified as: Real\n",
            "1/1 [==============================] - 0s 47ms/step\n",
            "The statement: \"Alien spacecraft discovered on the dark side of the moon, NASA confirms.\" is classified as: Fake\n",
            "1/1 [==============================] - 0s 35ms/step\n",
            "The statement: \"World leaders gather secretly to plan global domination, leaked documents reveal.\" is classified as: Fake\n",
            "1/1 [==============================] - 0s 39ms/step\n",
            "The statement: \"New app guarantees to make you a millionaire overnight with just a few clicks.\" is classified as: Real\n",
            "1/1 [==============================] - 0s 35ms/step\n",
            "The statement: \"Facebook to start charging users $2.99/month for access to their accounts.\" is classified as: Fake\n",
            "1/1 [==============================] - 0s 43ms/step\n",
            "The statement: \"Vaccines proven to cause autism, says disgraced former doctor.\" is classified as: Real\n",
            "1/1 [==============================] - 0s 43ms/step\n",
            "The statement: \"Breaking: Loch Ness Monster captured alive, shocking footage released.\" is classified as: Real\n"
          ]
        }
      ],
      "source": [
        "# Define a function to preprocess and predict\n",
        "def predict_fake_news(statement, model, tokenizer, max_len):\n",
        "    def clean_text(text):\n",
        "        stop_words = set(stopwords.words('english'))\n",
        "        words = text.lower().split()\n",
        "        words = [word for word in words if word.isalpha() and word not in stop_words]\n",
        "        return ' '.join(words)\n",
        "\n",
        "    # Preprocess the statement\n",
        "    cleaned_statement = clean_text(statement)\n",
        "    sequence = tokenizer.texts_to_sequences([cleaned_statement])\n",
        "    padded_sequence = pad_sequences(sequence, maxlen=max_len)\n",
        "\n",
        "    # Predict\n",
        "    prediction = model.predict(padded_sequence)[0][0]\n",
        "    return 'Real' if prediction >= 0.5 else 'Fake'\n",
        "\n",
        "# Function to predict and display results for multiple statements\n",
        "def test_multiple_statements(statements, model, tokenizer, max_len):\n",
        "    for statement in statements:\n",
        "        result = predict_fake_news(statement, model, tokenizer, max_len)\n",
        "        print(f'The statement: \"{statement}\" is classified as: {result}')\n",
        "\n",
        "\n",
        "# List of statements to test\n",
        "test_statements = [\n",
        "    \"NASA confirms liquid water on Mars\",\n",
        "    \"Celebrity endorses miracle weight loss pill\",\n",
        "    \"New technology promises to solve world hunger\",\n",
        "    \"Aliens have landed on Earth, says government\",\n",
        "    \"Economic growth predicted to soar in 2025\",\n",
        "    \"Scientists discover new species of dinosaur\",\n",
        "    \"Study shows chocolate cures cancer\",\n",
        "    \"Politician caught in corruption scandal\",\n",
        "    \"Local hero saves family from burning building\",\n",
        "    \"New movie breaks box office records\",\n",
        "    \"Scientists prove that drinking bleach can cure COVID-19.\",\n",
        "\"Millions of illegal votes were cast in the last election, says anonymous source.\",\n",
        "\"New study claims that climate change is a hoax perpetuated by scientists for profit.\",\n",
        "\"Elvis Presley spotted working as a cashier in a small-town grocery store.\",\n",
        "\"Alien spacecraft discovered on the dark side of the moon, NASA confirms.\",\n",
        "\"World leaders gather secretly to plan global domination, leaked documents reveal.\",\n",
        "\"New app guarantees to make you a millionaire overnight with just a few clicks.\",\n",
        "\"Facebook to start charging users $2.99/month for access to their accounts.\",\n",
        "\"Vaccines proven to cause autism, says disgraced former doctor.\",\n",
        "\"Breaking: Loch Ness Monster captured alive, shocking footage released.\"\n",
        "]\n",
        "\n",
        "# Test the model with multiple statements\n",
        "test_multiple_statements(test_statements, model, tokenizer, max_len)\n"
      ]
    },
    {
      "cell_type": "markdown",
      "metadata": {
        "id": "eB0WDp5OFbQQ"
      },
      "source": [
        "##batch_size=128"
      ]
    },
    {
      "cell_type": "code",
      "execution_count": null,
      "metadata": {
        "colab": {
          "base_uri": "https://localhost:8080/"
        },
        "id": "oT4Uy8K9EBia",
        "outputId": "d96abde5-ea9b-4dc9-edbd-b53352077e57"
      },
      "outputs": [
        {
          "name": "stdout",
          "output_type": "stream",
          "text": [
            "Epoch 1/20\n",
            "291/291 [==============================] - 25s 61ms/step - loss: 1.3589 - accuracy: 0.7509 - val_loss: 0.4193 - val_accuracy: 0.8350\n",
            "Epoch 2/20\n",
            "291/291 [==============================] - 8s 28ms/step - loss: 0.3783 - accuracy: 0.8548 - val_loss: 0.3667 - val_accuracy: 0.8502\n",
            "Epoch 3/20\n",
            "291/291 [==============================] - 7s 23ms/step - loss: 0.3290 - accuracy: 0.8781 - val_loss: 0.3417 - val_accuracy: 0.8632\n",
            "Epoch 4/20\n",
            "291/291 [==============================] - 7s 24ms/step - loss: 0.3001 - accuracy: 0.8906 - val_loss: 0.3372 - val_accuracy: 0.8668\n",
            "Epoch 5/20\n",
            "291/291 [==============================] - 10s 36ms/step - loss: 0.2784 - accuracy: 0.9002 - val_loss: 0.3318 - val_accuracy: 0.8766\n",
            "Epoch 6/20\n",
            "291/291 [==============================] - 9s 30ms/step - loss: 0.4581 - accuracy: 0.8615 - val_loss: 0.4348 - val_accuracy: 0.8681\n",
            "Epoch 7/20\n",
            "291/291 [==============================] - 9s 31ms/step - loss: 0.3842 - accuracy: 0.8825 - val_loss: 0.4164 - val_accuracy: 0.8548\n",
            "Epoch 8/20\n",
            "291/291 [==============================] - 10s 35ms/step - loss: 0.3165 - accuracy: 0.9022 - val_loss: 0.3513 - val_accuracy: 0.8763\n"
          ]
        }
      ],
      "source": [
        "model.compile(optimizer='adam', loss='binary_crossentropy', metrics=['accuracy'])\n",
        "\n",
        "# Early stopping callback\n",
        "early_stopping = EarlyStopping(monitor='val_loss', patience=3, restore_best_weights=True)\n",
        "\n",
        "# Train model with validation split\n",
        "history = model.fit(X_train, y_train, epochs=20, batch_size=128, validation_split=0.2, callbacks=[early_stopping])\n"
      ]
    },
    {
      "cell_type": "code",
      "execution_count": null,
      "metadata": {
        "colab": {
          "base_uri": "https://localhost:8080/",
          "height": 590
        },
        "id": "SwgBOcZ9FkUu",
        "outputId": "06f09303-8399-4e61-802f-670931efa835"
      },
      "outputs": [
        {
          "name": "stdout",
          "output_type": "stream",
          "text": [
            "364/364 [==============================] - 3s 8ms/step - loss: 0.3396 - accuracy: 0.8754\n",
            "Model Accuracy: 0.8754191398620605\n"
          ]
        },
        {
          "data": {
            "image/png": "[encoded data removed]",
            "text/plain": [
              "<Figure size 1200x400 with 2 Axes>"
            ]
          },
          "metadata": {},
          "output_type": "display_data"
        },
        {
          "name": "stdout",
          "output_type": "stream",
          "text": [
            "364/364 [==============================] - 4s 7ms/step\n",
            "              precision    recall  f1-score   support\n",
            "\n",
            "           0       0.82      0.83      0.82      4030\n",
            "           1       0.91      0.90      0.90      7601\n",
            "\n",
            "    accuracy                           0.88     11631\n",
            "   macro avg       0.86      0.86      0.86     11631\n",
            "weighted avg       0.88      0.88      0.88     11631\n",
            "\n"
          ]
        }
      ],
      "source": [
        "# Evaluate model\n",
        "loss, accuracy = model.evaluate(X_test, y_test)\n",
        "print(f'Model Accuracy: {accuracy}')\n",
        "\n",
        "# Plot training and validation accuracy and loss\n",
        "def plot_history(history):\n",
        "    plt.figure(figsize=(12, 4))\n",
        "    plt.subplot(1, 2, 1)\n",
        "    plt.plot(history.history['accuracy'])\n",
        "    plt.plot(history.history['val_accuracy'])\n",
        "    plt.title('Model Accuracy')\n",
        "    plt.ylabel('Accuracy')\n",
        "    plt.xlabel('Epoch')\n",
        "    plt.legend(['Train', 'Validation'], loc='upper left')\n",
        "\n",
        "    plt.subplot(1, 2, 2)\n",
        "    plt.plot(history.history['loss'])\n",
        "    plt.plot(history.history['val_loss'])\n",
        "    plt.title('Model Loss')\n",
        "    plt.ylabel('Loss')\n",
        "    plt.xlabel('Epoch')\n",
        "    plt.legend(['Train', 'Validation'], loc='upper left')\n",
        "\n",
        "    plt.tight_layout()\n",
        "    plt.show()\n",
        "\n",
        "plot_history(history)\n",
        "\n",
        "# Classification report\n",
        "y_pred = (model.predict(X_test) > 0.5).astype(\"int32\")\n",
        "print(classification_report(y_test, y_pred))"
      ]
    },
    {
      "cell_type": "code",
      "execution_count": null,
      "metadata": {
        "colab": {
          "base_uri": "https://localhost:8080/"
        },
        "id": "QUUYs5LqFkPU",
        "outputId": "a02a4ad4-82c2-4ce6-8e98-fe334085fb16"
      },
      "outputs": [
        {
          "name": "stderr",
          "output_type": "stream",
          "text": [
            "/usr/local/lib/python3.10/dist-packages/keras/src/engine/training.py:3103: UserWarning: You are saving your model as an HDF5 file via `model.save()`. This file format is considered legacy. We recommend using instead the native Keras format, e.g. `model.save('my_model.keras')`.\n",
            "  saving_api.save_model(\n"
          ]
        }
      ],
      "source": [
        "# Save the trained model\n",
        "model.save('fake_news_detection_model.h5')"
      ]
    },
    {
      "cell_type": "code",
      "execution_count": null,
      "metadata": {
        "colab": {
          "base_uri": "https://localhost:8080/"
        },
        "id": "olm6jwjnFkLP",
        "outputId": "deda2d5c-21a8-43a2-e1c3-39beb5edb73a"
      },
      "outputs": [
        {
          "name": "stdout",
          "output_type": "stream",
          "text": [
            "1/1 [==============================] - 0s 22ms/step\n",
            "The statement: \"NASA confirms liquid water on Mars\" is classified as: Fake\n",
            "1/1 [==============================] - 0s 22ms/step\n",
            "The statement: \"Celebrity endorses miracle weight loss pill\" is classified as: Real\n",
            "1/1 [==============================] - 0s 20ms/step\n",
            "The statement: \"New technology promises to solve world hunger\" is classified as: Real\n",
            "1/1 [==============================] - 0s 21ms/step\n",
            "The statement: \"Aliens have landed on Earth, says government\" is classified as: Real\n",
            "1/1 [==============================] - 0s 21ms/step\n",
            "The statement: \"Economic growth predicted to soar in 2025\" is classified as: Real\n",
            "1/1 [==============================] - 0s 22ms/step\n",
            "The statement: \"Scientists discover new species of dinosaur\" is classified as: Real\n",
            "1/1 [==============================] - 0s 21ms/step\n",
            "The statement: \"Study shows chocolate cures cancer\" is classified as: Fake\n",
            "1/1 [==============================] - 0s 23ms/step\n",
            "The statement: \"Politician caught in corruption scandal\" is classified as: Fake\n",
            "1/1 [==============================] - 0s 22ms/step\n",
            "The statement: \"Local hero saves family from burning building\" is classified as: Real\n",
            "1/1 [==============================] - 0s 22ms/step\n",
            "The statement: \"New movie breaks box office records\" is classified as: Real\n",
            "1/1 [==============================] - 0s 21ms/step\n",
            "The statement: \"Scientists prove that drinking bleach can cure COVID-19.\" is classified as: Real\n",
            "1/1 [==============================] - 0s 22ms/step\n",
            "The statement: \"Millions of illegal votes were cast in the last election, says anonymous source.\" is classified as: Real\n",
            "1/1 [==============================] - 0s 21ms/step\n",
            "The statement: \"New study claims that climate change is a hoax perpetuated by scientists for profit.\" is classified as: Fake\n",
            "1/1 [==============================] - 0s 26ms/step\n",
            "The statement: \"Elvis Presley spotted working as a cashier in a small-town grocery store.\" is classified as: Real\n",
            "1/1 [==============================] - 0s 34ms/step\n",
            "The statement: \"Alien spacecraft discovered on the dark side of the moon, NASA confirms.\" is classified as: Fake\n",
            "1/1 [==============================] - 0s 25ms/step\n",
            "The statement: \"World leaders gather secretly to plan global domination, leaked documents reveal.\" is classified as: Real\n",
            "1/1 [==============================] - 0s 22ms/step\n",
            "The statement: \"New app guarantees to make you a millionaire overnight with just a few clicks.\" is classified as: Real\n",
            "1/1 [==============================] - 0s 22ms/step\n",
            "The statement: \"Facebook to start charging users $2.99/month for access to their accounts.\" is classified as: Real\n",
            "1/1 [==============================] - 0s 21ms/step\n",
            "The statement: \"Vaccines proven to cause autism, says disgraced former doctor.\" is classified as: Real\n",
            "1/1 [==============================] - 0s 21ms/step\n",
            "The statement: \"Breaking: Loch Ness Monster captured alive, shocking footage released.\" is classified as: Fake\n"
          ]
        }
      ],
      "source": [
        "# Define a function to preprocess and predict\n",
        "def predict_fake_news(statement, model, tokenizer, max_len):\n",
        "    def clean_text(text):\n",
        "        stop_words = set(stopwords.words('english'))\n",
        "        words = text.lower().split()\n",
        "        words = [word for word in words if word.isalpha() and word not in stop_words]\n",
        "        return ' '.join(words)\n",
        "\n",
        "    # Preprocess the statement\n",
        "    cleaned_statement = clean_text(statement)\n",
        "    sequence = tokenizer.texts_to_sequences([cleaned_statement])\n",
        "    padded_sequence = pad_sequences(sequence, maxlen=max_len)\n",
        "\n",
        "    # Predict\n",
        "    prediction = model.predict(padded_sequence)[0][0]\n",
        "    return 'Real' if prediction >= 0.5 else 'Fake'\n",
        "\n",
        "# Function to predict and display results for multiple statements\n",
        "def test_multiple_statements(statements, model, tokenizer, max_len):\n",
        "    for statement in statements:\n",
        "        result = predict_fake_news(statement, model, tokenizer, max_len)\n",
        "        print(f'The statement: \"{statement}\" is classified as: {result}')\n",
        "\n",
        "\n",
        "# List of statements to test\n",
        "test_statements = [\n",
        "    \"NASA confirms liquid water on Mars\",\n",
        "    \"Celebrity endorses miracle weight loss pill\",\n",
        "    \"New technology promises to solve world hunger\",\n",
        "    \"Aliens have landed on Earth, says government\",\n",
        "    \"Economic growth predicted to soar in 2025\",\n",
        "    \"Scientists discover new species of dinosaur\",\n",
        "    \"Study shows chocolate cures cancer\",\n",
        "    \"Politician caught in corruption scandal\",\n",
        "    \"Local hero saves family from burning building\",\n",
        "    \"New movie breaks box office records\",\n",
        "    \"Scientists prove that drinking bleach can cure COVID-19.\",\n",
        "\"Millions of illegal votes were cast in the last election, says anonymous source.\",\n",
        "\"New study claims that climate change is a hoax perpetuated by scientists for profit.\",\n",
        "\"Elvis Presley spotted working as a cashier in a small-town grocery store.\",\n",
        "\"Alien spacecraft discovered on the dark side of the moon, NASA confirms.\",\n",
        "\"World leaders gather secretly to plan global domination, leaked documents reveal.\",\n",
        "\"New app guarantees to make you a millionaire overnight with just a few clicks.\",\n",
        "\"Facebook to start charging users $2.99/month for access to their accounts.\",\n",
        "\"Vaccines proven to cause autism, says disgraced former doctor.\",\n",
        "\"Breaking: Loch Ness Monster captured alive, shocking footage released.\"\n",
        "]\n",
        "\n",
        "# Test the model with multiple statements\n",
        "test_multiple_statements(test_statements, model, tokenizer, max_len)\n"
      ]
    },
    {
      "cell_type": "code",
      "execution_count": null,
      "metadata": {
        "id": "PHeK1SSsEBYz"
      },
      "outputs": [],
      "source": []
    },
    {
      "cell_type": "markdown",
      "metadata": {
        "id": "44KWxBdlGEez"
      },
      "source": [
        "##batch_size=64"
      ]
    },
    {
      "cell_type": "code",
      "execution_count": null,
      "metadata": {
        "colab": {
          "base_uri": "https://localhost:8080/",
          "height": 1000
        },
        "id": "WfT2wyZ_e2-B",
        "outputId": "ef16fb7b-9d4c-409f-8b24-47cb1e3dc02f"
      },
      "outputs": [
        {
          "name": "stderr",
          "output_type": "stream",
          "text": [
            "[nltk_data] Downloading package stopwords to /root/nltk_data...\n",
            "[nltk_data]   Package stopwords is already up-to-date!\n",
            "[nltk_data] Downloading package wordnet to /root/nltk_data...\n",
            "[nltk_data]   Package wordnet is already up-to-date!\n",
            "[nltk_data] Downloading package averaged_perceptron_tagger to\n",
            "[nltk_data]     /root/nltk_data...\n",
            "[nltk_data]   Package averaged_perceptron_tagger is already up-to-\n",
            "[nltk_data]       date!\n"
          ]
        },
        {
          "name": "stdout",
          "output_type": "stream",
          "text": [
            "Epoch 1/20\n",
            "1160/1160 [==============================] - 46s 31ms/step - loss: 0.6246 - accuracy: 0.8260 - val_loss: 0.3503 - val_accuracy: 0.8547\n",
            "Epoch 2/20\n",
            "1160/1160 [==============================] - 25s 22ms/step - loss: 0.3217 - accuracy: 0.8685 - val_loss: 0.3411 - val_accuracy: 0.8543\n",
            "Epoch 3/20\n",
            "1160/1160 [==============================] - 25s 22ms/step - loss: 0.3073 - accuracy: 0.8740 - val_loss: 0.3283 - val_accuracy: 0.8609\n",
            "Epoch 4/20\n",
            "1160/1160 [==============================] - 25s 21ms/step - loss: 0.2975 - accuracy: 0.8785 - val_loss: 0.3369 - val_accuracy: 0.8595\n",
            "Epoch 5/20\n",
            "1160/1160 [==============================] - 25s 21ms/step - loss: 0.2946 - accuracy: 0.8800 - val_loss: 0.3293 - val_accuracy: 0.8618\n",
            "Epoch 6/20\n",
            "1160/1160 [==============================] - 25s 21ms/step - loss: 0.2880 - accuracy: 0.8815 - val_loss: 0.3250 - val_accuracy: 0.8629\n",
            "Epoch 7/20\n",
            "1160/1160 [==============================] - 25s 22ms/step - loss: 0.2880 - accuracy: 0.8824 - val_loss: 0.3322 - val_accuracy: 0.8639\n",
            "Epoch 8/20\n",
            "1160/1160 [==============================] - 25s 22ms/step - loss: 0.2812 - accuracy: 0.8850 - val_loss: 0.3362 - val_accuracy: 0.8652\n",
            "Epoch 9/20\n",
            "1160/1160 [==============================] - 25s 21ms/step - loss: 0.2708 - accuracy: 0.8895 - val_loss: 0.3331 - val_accuracy: 0.8658\n",
            "725/725 [==============================] - 7s 9ms/step - loss: 0.3165 - accuracy: 0.8695\n",
            "Model Accuracy: 0.8694602251052856\n"
          ]
        },
        {
          "data": {
            "image/png": "[encoded data removed]",
            "text/plain": [
              "<Figure size 1200x400 with 2 Axes>"
            ]
          },
          "metadata": {},
          "output_type": "display_data"
        },
        {
          "name": "stdout",
          "output_type": "stream",
          "text": [
            "725/725 [==============================] - 7s 7ms/step\n",
            "              precision    recall  f1-score   support\n",
            "\n",
            "           0       0.77      0.68      0.72      5794\n",
            "           1       0.90      0.93      0.91     17402\n",
            "\n",
            "    accuracy                           0.87     23196\n",
            "   macro avg       0.83      0.80      0.82     23196\n",
            "weighted avg       0.87      0.87      0.87     23196\n",
            "\n",
            "1/1 [==============================] - 0s 23ms/step\n",
            "The statement: \"NASA confirms liquid water on Mars\" is classified as: Real\n",
            "1/1 [==============================] - 0s 23ms/step\n",
            "The statement: \"Celebrity endorses miracle weight loss pill\" is classified as: Real\n"
          ]
        },
        {
          "name": "stderr",
          "output_type": "stream",
          "text": [
            "/usr/local/lib/python3.10/dist-packages/keras/src/engine/training.py:3103: UserWarning: You are saving your model as an HDF5 file via `model.save()`. This file format is considered legacy. We recommend using instead the native Keras format, e.g. `model.save('my_model.keras')`.\n",
            "  saving_api.save_model(\n"
          ]
        },
        {
          "name": "stdout",
          "output_type": "stream",
          "text": [
            "1/1 [==============================] - 0s 21ms/step\n",
            "The statement: \"New technology promises to solve world hunger\" is classified as: Real\n",
            "1/1 [==============================] - 0s 22ms/step\n",
            "The statement: \"Aliens have landed on Earth, says government\" is classified as: Real\n",
            "1/1 [==============================] - 0s 22ms/step\n",
            "The statement: \"Economic growth predicted to soar in 2025\" is classified as: Real\n",
            "1/1 [==============================] - 0s 21ms/step\n",
            "The statement: \"Scientists discover new species of dinosaur\" is classified as: Real\n",
            "1/1 [==============================] - 0s 22ms/step\n",
            "The statement: \"Study shows chocolate cures cancer\" is classified as: Real\n",
            "1/1 [==============================] - 0s 23ms/step\n",
            "The statement: \"Politician caught in corruption scandal\" is classified as: Fake\n",
            "1/1 [==============================] - 0s 30ms/step\n",
            "The statement: \"Local hero saves family from burning building\" is classified as: Real\n",
            "1/1 [==============================] - 0s 25ms/step\n",
            "The statement: \"New movie breaks box office records\" is classified as: Real\n"
          ]
        }
      ],
      "source": [
        "import numpy as np\n",
        "import pandas as pd\n",
        "import nltk\n",
        "import random\n",
        "import matplotlib.pyplot as plt\n",
        "from sklearn.model_selection import train_test_split\n",
        "from sklearn.metrics import classification_report, accuracy_score\n",
        "from tensorflow.keras.models import Sequential\n",
        "from tensorflow.keras.layers import Embedding, Bidirectional, LSTM, Dense, Dropout\n",
        "from tensorflow.keras.regularizers import l2\n",
        "from tensorflow.keras.preprocessing.text import Tokenizer\n",
        "from tensorflow.keras.preprocessing.sequence import pad_sequences\n",
        "from tensorflow.keras.callbacks import EarlyStopping\n",
        "\n",
        "# Download NLTK data\n",
        "nltk.download('stopwords')\n",
        "nltk.download('wordnet')\n",
        "nltk.download('averaged_perceptron_tagger')\n",
        "\n",
        "from nltk.corpus import stopwords, wordnet\n",
        "\n",
        "# Load datasets\n",
        "gossipcop_fake = pd.read_csv('gossipcop_fake.csv')\n",
        "gossipcop_real = pd.read_csv('gossipcop_real.csv')\n",
        "politifact_fake = pd.read_csv('politifact_fake.csv')\n",
        "politifact_real = pd.read_csv('politifact_real.csv')\n",
        "\n",
        "# Combine datasets\n",
        "gossipcop_fake['label'] = 0\n",
        "gossipcop_real['label'] = 1\n",
        "politifact_fake['label'] = 0\n",
        "politifact_real['label'] = 1\n",
        "\n",
        "data = pd.concat([gossipcop_fake, gossipcop_real, politifact_fake, politifact_real], ignore_index=True)\n",
        "\n",
        "# Data preprocessing\n",
        "stop_words = set(stopwords.words('english'))\n",
        "\n",
        "def clean_text(text):\n",
        "    words = text.lower().split()\n",
        "    words = [word for word in words if word.isalpha() and word not in stop_words]\n",
        "    return ' '.join(words)\n",
        "\n",
        "data['cleaned_title'] = data['title'].apply(clean_text)\n",
        "\n",
        "# Text Data Augmentation Functions\n",
        "def get_synonyms(word):\n",
        "    synonyms = set()\n",
        "    for syn in wordnet.synsets(word):\n",
        "        for lemma in syn.lemmas():\n",
        "            synonym = lemma.name().replace('_', ' ')\n",
        "            if synonym != word:\n",
        "                synonyms.add(synonym)\n",
        "    return list(synonyms)\n",
        "\n",
        "def synonym_replacement(sentence, n):\n",
        "    words = sentence.split()\n",
        "    if len(words) == 0:\n",
        "        return sentence\n",
        "    new_words = words.copy()\n",
        "    random_word_list = list(set(words))\n",
        "    random.shuffle(random_word_list)\n",
        "    num_replaced = 0\n",
        "    for random_word in random_word_list:\n",
        "        synonyms = get_synonyms(random_word)\n",
        "        if len(synonyms) >= 1:\n",
        "            synonym = random.choice(synonyms)\n",
        "            new_words = [synonym if word == random_word else word for word in new_words]\n",
        "            num_replaced += 1\n",
        "        if num_replaced >= n:\n",
        "            break\n",
        "    sentence = ' '.join(new_words)\n",
        "    return sentence\n",
        "\n",
        "def random_insertion(sentence, n):\n",
        "    words = sentence.split()\n",
        "    if len(words) == 0:\n",
        "        return sentence\n",
        "    for _ in range(n):\n",
        "        add_word(words)\n",
        "    return ' '.join(words)\n",
        "\n",
        "def add_word(words):\n",
        "    synonyms = []\n",
        "    counter = 0\n",
        "    while len(synonyms) < 1:\n",
        "        random_word = words[random.randint(0, len(words)-1)]\n",
        "        synonyms = get_synonyms(random_word)\n",
        "        counter += 1\n",
        "        if counter >= 10:\n",
        "            return\n",
        "    random_synonym = synonyms[0]\n",
        "    random_idx = random.randint(0, len(words)-1)\n",
        "    words.insert(random_idx, random_synonym)\n",
        "\n",
        "def random_swap(sentence, n):\n",
        "    words = sentence.split()\n",
        "    if len(words) == 0:\n",
        "        return sentence\n",
        "    for _ in range(n):\n",
        "        words = swap_word(words)\n",
        "    return ' '.join(words)\n",
        "\n",
        "def swap_word(words):\n",
        "    random_idx_1 = random.randint(0, len(words)-1)\n",
        "    random_idx_2 = random_idx_1\n",
        "    counter = 0\n",
        "    while random_idx_2 == random_idx_1:\n",
        "        random_idx_2 = random.randint(0, len(words)-1)\n",
        "        counter += 1\n",
        "        if counter > 3:\n",
        "            return words\n",
        "    words[random_idx_1], words[random_idx_2] = words[random_idx_2], words[random_idx_1]\n",
        "    return words\n",
        "\n",
        "def random_deletion(sentence, p):\n",
        "    words = sentence.split()\n",
        "    if len(words) <= 1:  # If there's only one word or none, return the original sentence\n",
        "        return ' '.join(words)\n",
        "\n",
        "    new_words = []\n",
        "    for word in words:\n",
        "        r = random.uniform(0, 1)\n",
        "        if r > p:\n",
        "            new_words.append(word)\n",
        "\n",
        "    if len(new_words) == 0:\n",
        "        return ' '.join([random.choice(words)])  # Return a random word from original words if all deleted\n",
        "\n",
        "    return ' '.join(new_words)\n",
        "\n",
        "def augment_sentence(sentence):\n",
        "    augmented_sentences = []\n",
        "    augmented_sentences.append(synonym_replacement(sentence, n=2))\n",
        "    augmented_sentences.append(random_insertion(sentence, n=2))\n",
        "    augmented_sentences.append(random_swap(sentence, n=2))\n",
        "    augmented_sentences.append(random_deletion(sentence, p=0.2))\n",
        "    return augmented_sentences\n",
        "\n",
        "# Apply data augmentation\n",
        "augmented_data = []\n",
        "for _, row in data.iterrows():\n",
        "    augmented_sentences = augment_sentence(row['cleaned_title'])\n",
        "    for aug_sentence in augmented_sentences:\n",
        "        augmented_data.append({'title': aug_sentence, 'label': row['label']})\n",
        "\n",
        "augmented_df = pd.DataFrame(augmented_data)\n",
        "\n",
        "# Combine original and augmented data\n",
        "combined_data = pd.concat([data[['cleaned_title', 'label']].rename(columns={'cleaned_title': 'title'}), augmented_df], ignore_index=True)\n",
        "\n",
        "# Tokenization and padding\n",
        "max_words = 5000\n",
        "max_len = 100\n",
        "\n",
        "tokenizer = Tokenizer(num_words=max_words)\n",
        "tokenizer.fit_on_texts(combined_data['title'])\n",
        "sequences = tokenizer.texts_to_sequences(combined_data['title'])\n",
        "padded_sequences = pad_sequences(sequences, maxlen=max_len)\n",
        "\n",
        "# Split data into training and testing sets\n",
        "X_train, X_test, y_train, y_test = train_test_split(padded_sequences, combined_data['label'], test_size=0.2, random_state=42)\n",
        "\n",
        "# Model definition\n",
        "model = Sequential()\n",
        "model.add(Embedding(input_dim=max_words, output_dim=128, input_length=max_len))\n",
        "model.add(Bidirectional(LSTM(64, return_sequences=True, kernel_regularizer=l2(0.01))))\n",
        "model.add(Dropout(0.5))\n",
        "model.add(Bidirectional(LSTM(32, kernel_regularizer=l2(0.01))))\n",
        "model.add(Dropout(0.5))\n",
        "model.add(Dense(1, activation='sigmoid'))\n",
        "\n",
        "model.compile(optimizer='adam', loss='binary_crossentropy', metrics=['accuracy'])\n",
        "\n",
        "# Early stopping callback\n",
        "early_stopping = EarlyStopping(monitor='val_loss', patience=3, restore_best_weights=True)\n",
        "\n",
        "# Train model with validation split\n",
        "history = model.fit(X_train, y_train, epochs=20, batch_size=64, validation_split=0.2, callbacks=[early_stopping])\n",
        "\n",
        "# Evaluate model\n",
        "loss, accuracy = model.evaluate(X_test, y_test)\n",
        "print(f'Model Accuracy: {accuracy}')\n",
        "\n",
        "# Plot training and validation accuracy and loss\n",
        "def plot_history(history):\n",
        "    plt.figure(figsize=(12, 4))\n",
        "    plt.subplot(1, 2, 1)\n",
        "    plt.plot(history.history['accuracy'])\n",
        "    plt.plot(history.history['val_accuracy'])\n",
        "    plt.title('Model Accuracy')\n",
        "    plt.ylabel('Accuracy')\n",
        "    plt.xlabel('Epoch')\n",
        "    plt.legend(['Train', 'Validation'], loc='upper left')\n",
        "\n",
        "    plt.subplot(1, 2, 2)\n",
        "    plt.plot(history.history['loss'])\n",
        "    plt.plot(history.history['val_loss'])\n",
        "    plt.title('Model Loss')\n",
        "    plt.ylabel('Loss')\n",
        "    plt.xlabel('Epoch')\n",
        "    plt.legend(['Train', 'Validation'], loc='upper left')\n",
        "\n",
        "    plt.tight_layout()\n",
        "    plt.show()\n",
        "\n",
        "plot_history(history)\n",
        "\n",
        "# Classification report\n",
        "y_pred = (model.predict(X_test) > 0.5).astype(\"int32\")\n",
        "print(classification_report(y_test, y_pred))\n",
        "\n",
        "# Save the trained model\n",
        "model.save('fake_news_detection_model.h5')\n"
      ]
    },
    {
      "cell_type": "code",
      "execution_count": null,
      "metadata": {
        "colab": {
          "base_uri": "https://localhost:8080/"
        },
        "id": "Bvekqbpdta6t",
        "outputId": "522cfb8c-ec7a-451f-9dd8-479d2c27b95b"
      },
      "outputs": [
        {
          "name": "stdout",
          "output_type": "stream",
          "text": [
            "1/1 [==============================] - 0s 88ms/step\n",
            "The statement: \"NASA confirms liquid water on Mars\" is classified as: Real\n",
            "1/1 [==============================] - 0s 37ms/step\n",
            "The statement: \"Celebrity endorses miracle weight loss pill\" is classified as: Real\n",
            "1/1 [==============================] - 0s 41ms/step\n",
            "The statement: \"New technology promises to solve world hunger\" is classified as: Real\n",
            "1/1 [==============================] - 0s 33ms/step\n",
            "The statement: \"Aliens have landed on Earth, says government\" is classified as: Real\n",
            "1/1 [==============================] - 0s 65ms/step\n",
            "The statement: \"Economic growth predicted to soar in 2025\" is classified as: Real\n",
            "1/1 [==============================] - 0s 37ms/step\n",
            "The statement: \"Scientists discover new species of dinosaur\" is classified as: Real\n",
            "1/1 [==============================] - 0s 47ms/step\n",
            "The statement: \"Study shows chocolate cures cancer\" is classified as: Real\n",
            "1/1 [==============================] - 0s 39ms/step\n",
            "The statement: \"Politician caught in corruption scandal\" is classified as: Fake\n",
            "1/1 [==============================] - 0s 57ms/step\n",
            "The statement: \"Local hero saves family from burning building\" is classified as: Real\n",
            "1/1 [==============================] - 0s 43ms/step\n",
            "The statement: \"New movie breaks box office records\" is classified as: Real\n",
            "1/1 [==============================] - 0s 35ms/step\n",
            "The statement: \"Scientists prove that drinking bleach can cure COVID-19.\" is classified as: Real\n",
            "1/1 [==============================] - 0s 37ms/step\n",
            "The statement: \"Millions of illegal votes were cast in the last election, says anonymous source.\" is classified as: Fake\n",
            "1/1 [==============================] - 0s 43ms/step\n",
            "The statement: \"New study claims that climate change is a hoax perpetuated by scientists for profit.\" is classified as: Fake\n",
            "1/1 [==============================] - 0s 53ms/step\n",
            "The statement: \"Elvis Presley spotted working as a cashier in a small-town grocery store.\" is classified as: Real\n",
            "1/1 [==============================] - 0s 44ms/step\n",
            "The statement: \"Alien spacecraft discovered on the dark side of the moon, NASA confirms.\" is classified as: Fake\n",
            "1/1 [==============================] - 0s 42ms/step\n",
            "The statement: \"World leaders gather secretly to plan global domination, leaked documents reveal.\" is classified as: Real\n",
            "1/1 [==============================] - 0s 36ms/step\n",
            "The statement: \"New app guarantees to make you a millionaire overnight with just a few clicks.\" is classified as: Real\n",
            "1/1 [==============================] - 0s 48ms/step\n",
            "The statement: \"Facebook to start charging users $2.99/month for access to their accounts.\" is classified as: Fake\n",
            "1/1 [==============================] - 0s 39ms/step\n",
            "The statement: \"Vaccines proven to cause autism, says disgraced former doctor.\" is classified as: Real\n",
            "1/1 [==============================] - 0s 59ms/step\n",
            "The statement: \"Breaking: Loch Ness Monster captured alive, shocking footage released.\" is classified as: Real\n"
          ]
        }
      ],
      "source": [
        "# Define a function to preprocess and predict\n",
        "def predict_fake_news(statement, model, tokenizer, max_len):\n",
        "    def clean_text(text):\n",
        "        stop_words = set(stopwords.words('english'))\n",
        "        words = text.lower().split()\n",
        "        words = [word for word in words if word.isalpha() and word not in stop_words]\n",
        "        return ' '.join(words)\n",
        "\n",
        "    # Preprocess the statement\n",
        "    cleaned_statement = clean_text(statement)\n",
        "    sequence = tokenizer.texts_to_sequences([cleaned_statement])\n",
        "    padded_sequence = pad_sequences(sequence, maxlen=max_len)\n",
        "\n",
        "    # Predict\n",
        "    prediction = model.predict(padded_sequence)[0][0]\n",
        "    return 'Real' if prediction >= 0.5 else 'Fake'\n",
        "\n",
        "# Function to predict and display results for multiple statements\n",
        "def test_multiple_statements(statements, model, tokenizer, max_len):\n",
        "    for statement in statements:\n",
        "        result = predict_fake_news(statement, model, tokenizer, max_len)\n",
        "        print(f'The statement: \"{statement}\" is classified as: {result}')\n",
        "\n",
        "\n",
        "# List of statements to test\n",
        "test_statements = [\n",
        "    \"NASA confirms liquid water on Mars\",\n",
        "    \"Celebrity endorses miracle weight loss pill\",\n",
        "    \"New technology promises to solve world hunger\",\n",
        "    \"Aliens have landed on Earth, says government\",\n",
        "    \"Economic growth predicted to soar in 2025\",\n",
        "    \"Scientists discover new species of dinosaur\",\n",
        "    \"Study shows chocolate cures cancer\",\n",
        "    \"Politician caught in corruption scandal\",\n",
        "    \"Local hero saves family from burning building\",\n",
        "    \"New movie breaks box office records\",\n",
        "    \"Scientists prove that drinking bleach can cure COVID-19.\",\n",
        "\"Millions of illegal votes were cast in the last election, says anonymous source.\",\n",
        "\"New study claims that climate change is a hoax perpetuated by scientists for profit.\",\n",
        "\"Elvis Presley spotted working as a cashier in a small-town grocery store.\",\n",
        "\"Alien spacecraft discovered on the dark side of the moon, NASA confirms.\",\n",
        "\"World leaders gather secretly to plan global domination, leaked documents reveal.\",\n",
        "\"New app guarantees to make you a millionaire overnight with just a few clicks.\",\n",
        "\"Facebook to start charging users $2.99/month for access to their accounts.\",\n",
        "\"Vaccines proven to cause autism, says disgraced former doctor.\",\n",
        "\"Breaking: Loch Ness Monster captured alive, shocking footage released.\"\n",
        "]\n",
        "\n",
        "# Test the model with multiple statements\n",
        "test_multiple_statements(test_statements, model, tokenizer, max_len)\n"
      ]
    }
  ],
  "metadata": {
    "accelerator": "GPU",
    "colab": {
      "gpuType": "T4",
      "provenance": []
    },
    "kernelspec": {
      "display_name": "Python 3",
      "name": "python3"
    },
    "language_info": {
      "name": "python"
    }
  },
  "nbformat": 4,
  "nbformat_minor": 0
}